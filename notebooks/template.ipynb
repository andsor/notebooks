{
 "metadata": {},
 "nbformat": 3,
 "nbformat_minor": 0,
 "worksheets": [
  {
   "cells": [
    {
     "cell_type": "markdown",
     "metadata": {},
     "source": [
      "[This work](http://github.com/andsor/notebooks) is licensed under a [Creative\n",
      "Commons Attribution 4.0 International\n",
      "License](http://creativecommons.org/licenses/by/4.0/)."
     ]
    },
    {
     "cell_type": "code",
     "collapsed": false,
     "input": [
      "# numpy\n",
      "import numpy as np\n",
      "\n",
      "# import sympy and configure latex output\n",
      "import sympy\n",
      "sympy.init_printing(use_unicode=True)\n",
      "from IPython.display import Math\n",
      "\n",
      "# import and configure matplotlib\n",
      "import matplotlib as mpl\n",
      "import matplotlib.pyplot as plt\n",
      "%matplotlib inline\n",
      "## use Scalable Vector Graphics (SVG) format for figures\n",
      "## remember to employ rasterized option when plotting large\n",
      "## datasets to keep figure size down\n",
      "%config InlineBackend.figure_format = \"svg\"\n",
      "## load matplotlib inline integration for base16 ipython notebook\n",
      "## themes\n",
      "## https://github.com/benjaminaschultz/base16-ipython-matplotlibrc\n",
      "try:\n",
      "    %load_ext base16_mplrc\n",
      "    %base16_mplrc\n",
      "except:\n",
      "    pass\n",
      "mpl.rcParams.update({\n",
      "    'figure.dpi'        : 300,\n",
      "    'savefig.dpi'       : 300,\n",
      "    'grid.color'        : mpl.rcParams['xtick.color'],\n",
      "})\n",
      "\n",
      "# load ipython cython magic\n",
      "%load_ext cythonmagic"
     ],
     "language": "python",
     "metadata": {},
     "outputs": [
      {
       "output_type": "stream",
       "stream": "stdout",
       "text": [
        "\n",
        "                     Could not detect base-16 ipython notebook theme. Download base16 theme notebook theme\n",
        "                     from https://github.com/nsonnad/base16-ipython-notebook . Using 'default' theme.\n",
        "\n",
        "                     Could not detect base-16 ipython notebook theme shade. Download base16 theme notebook themes\n",
        "                     from https://github.com/nsonnad/base16-ipython-notebook . Using 'default' theme.\n",
        "Setting plotting theme to default-light. Palette available in b16_colors\n"
       ]
      }
     ],
     "prompt_number": 1
    }
   ],
   "metadata": {}
  }
 ]
}